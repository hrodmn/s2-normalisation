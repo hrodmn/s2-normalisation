{
 "cells": [
  {
   "cell_type": "markdown",
   "source": [
    "## Test kernel computations found in the litterature"
   ],
   "metadata": {}
  },
  {
   "cell_type": "code",
   "execution_count": 1,
   "source": [
    "import numpy as np\n",
    "from numpy import pi, tan, cos, sin\n",
    "from numpy import arctan, sqrt, arccos\n",
    "import matplotlib.pyplot as plt"
   ],
   "outputs": [],
   "metadata": {}
  },
  {
   "cell_type": "markdown",
   "source": [
    "### Helper functions\n"
   ],
   "metadata": {}
  },
  {
   "cell_type": "code",
   "execution_count": 2,
   "source": [
    "def deg2rad(x):\n",
    "    \"\"\"Convert degrees to radians\"\"\"\n",
    "    return x * np.pi / 180\n",
    "\n",
    "def rad2deg(x):\n",
    "    \"\"\"Convert degrees to radians\"\"\"\n",
    "    return x / np.pi * 180\n",
    "\n",
    "def relative_azimuth(saa, vaa):\n",
    "    \"\"\"Calculate the relative azimuth angle between a SAA and VAA.\n",
    "       In Radians.\"\"\"\n",
    "    return np.abs(vaa - np.pi - saa);"
   ],
   "outputs": [],
   "metadata": {}
  },
  {
   "cell_type": "markdown",
   "source": [
    "# 1. Kgeo"
   ],
   "metadata": {}
  },
  {
   "cell_type": "markdown",
   "source": [
    "### HDF tools"
   ],
   "metadata": {}
  },
  {
   "cell_type": "code",
   "execution_count": 3,
   "source": [
    "def kgeo_hdf(solZn,viewZn,relAz, li=\"sparse\"):\n",
    "    # Eq. 37,52. Wanner et al. JGRA 1995\n",
    "    solZn_ = np.arctan(1* np.tan(solZn))\n",
    "    viewZn_ = np.arctan(1* np.tan(viewZn))\n",
    "    # Eq 50. Wanner et al. JGRA 1995\n",
    "    D = np.sqrt((np.tan(solZn_)**2) + (np.tan(viewZn_)**2) - 2*np.tan(solZn_)*np.tan(viewZn_)*np.cos(relAz))    \n",
    "    # Eq 49. Wanner et al. JGRA 1995\n",
    "    t_num = 2. * np.sqrt(D**2 + (np.tan(solZn_)*np.tan(viewZn_)*np.sin(relAz))**2) \n",
    "    t_denom = (1/np.cos(solZn_))  + (1/np.cos(viewZn_))\n",
    "    t = np.arccos(np.clip(t_num/t_denom,-1,1))\n",
    "    # Eq 33,48. Wanner et al. JGRA 1995\n",
    "    O = (1/np.pi) * (t - np.sin(t)*np.cos(t)) * t_denom\n",
    "    # Eq 51. Wanner et al. JGRA 1995\n",
    "    cosPhase_ =  np.cos(solZn_)*np.cos(viewZn_) + np.sin(solZn_)*np.sin(viewZn_)*np.cos(relAz)\n",
    "    if li == 'sparse':\n",
    "        # Eq 32. Wanner et al. JGRA 1995\n",
    "        kGeo = O - (1/np.cos(solZn_)) - (1/np.cos(viewZn_)) + .5*(1+ cosPhase_) * (1/np.cos(viewZn_))\n",
    "    elif li == 'dense':\n",
    "        # Eq 47. Wanner et al. JGRA 1995\n",
    "        kGeo = (((1+cosPhase_) * (1/np.cos(viewZn_)))/ (t_denom - O)) - 2\n",
    "    \n",
    "    return kGeo"
   ],
   "outputs": [],
   "metadata": {}
  },
  {
   "cell_type": "markdown",
   "source": [
    "## GEOS"
   ],
   "metadata": {}
  },
  {
   "cell_type": "code",
   "execution_count": 4,
   "source": [
    "def geos(sza, vza, raa):\n",
    "    # Calculate Rgeo\n",
    "    h_b  = 2.0\n",
    "    b_r  = 1.0\n",
    "\n",
    "    szaP        = arctan(b_r*tan(sza))\n",
    "    vzaP        = arctan(b_r*tan(vza))\n",
    "    cos_thetaP  = cos(szaP)*cos(vzaP) + sin(szaP)*sin(vzaP)*cos(raa)\n",
    "    dP          = sqrt(tan(vzaP)*tan(vzaP) + tan(szaP)*tan(szaP) - 2.0*tan(vzaP)*tan(szaP)*cos(raa))\n",
    "    amfP        = (1./cos(vzaP)) + (1./cos(szaP))\n",
    "    temp        = h_b*sqrt(dP*dP + (tan(szaP)*tan(vzaP)*sin(raa))*(tan(szaP)*tan(vzaP)*sin(raa)))/amfP\n",
    "    cos_t       = np.min([1,temp])       \n",
    "    t           = arccos(cos_t)\n",
    "    sin_t       = sin(t)\n",
    "    O           = (1.0-(1./pi)*(t-sin_t*cos_t))*amfP\n",
    "\n",
    "    Rgeo        = 0.5*(1+cos_thetaP)*(1./cos(vzaP))*(1./cos(szaP)) - O\n",
    "    \n",
    "    return Rgeo"
   ],
   "outputs": [],
   "metadata": {}
  },
  {
   "cell_type": "markdown",
   "source": [
    "## SEPAL"
   ],
   "metadata": {}
  },
  {
   "cell_type": "code",
   "execution_count": 5,
   "source": [
    "def calc_kvol(sunAz, sunZen, viewAz, viewZen):\n",
    "    \"\"\"Calculate kvol kernel.\n",
    "    From Lucht et al. 2000\n",
    "    Phase angle = cos(solar zenith) cos(view zenith) + sin(solar zenith) sin(view zenith) cos(relative azimuth)\"\"\"\n",
    "    relative_azimuth = sunAz -viewAz\n",
    "    pa1 = np.cos(viewZen) * np.cos(sunZen)\n",
    "    pa2 = np.sin(viewZen) * np.sin(sunZen) * np.cos(relative_azimuth)\n",
    "    phase_angle1 = pa1+pa2\n",
    "    phase_angle = np.arccos(phase_angle1)\n",
    "    p1 = np.pi / 2 - phase_angle\n",
    "    p2 = p1 * phase_angle1\n",
    "    p3 = p2 + np.sin(phase_angle)\n",
    "    p4 = np.cos(sunZen) + np.cos(viewZen)\n",
    "    p5 = np.pi / 4\n",
    "\n",
    "    kvol = p3 / p4 - p5\n",
    "\n",
    "    viewZen0 = 0\n",
    "    pa10 = np.cos(viewZen0) * np.cos(sunZen)\n",
    "    pa20 = np.sin(viewZen0) * np.sin(sunZen) * np.cos(relative_azimuth)\n",
    "    phase_angle10 = pa10 + pa20\n",
    "    phase_angle0 = np.arccos(phase_angle10)\n",
    "    p10 = np.pi / 2 - phase_angle0\n",
    "    p20 = p10 * phase_angle10\n",
    "    p30 = p20 + np.sin(phase_angle0)\n",
    "    p40 = np.cos(sunZen) + np.cos(viewZen0)\n",
    "    p50 = np.pi / 4\n",
    "\n",
    "    kvol0 = p30 / p40 - p50\n",
    "\n",
    "    return kvol0"
   ],
   "outputs": [],
   "metadata": {}
  },
  {
   "cell_type": "markdown",
   "source": [
    "# s2brdf"
   ],
   "metadata": {}
  },
  {
   "cell_type": "code",
   "execution_count": 6,
   "source": [
    "from s2brdf import kernels"
   ],
   "outputs": [],
   "metadata": {}
  },
  {
   "cell_type": "code",
   "execution_count": 7,
   "source": [
    "# Set angles for testing\n",
    "\n",
    "SZA = 45\n",
    "SAA = 180\n",
    "VAA = 0\n",
    "VZA = range(0,90, 5)\n",
    "\n",
    "# Initialise angles and results\n",
    "angles = []\n",
    "hdf_sparse_results = []\n",
    "hdf_thick_results = []\n",
    "geos_results = []\n",
    "sepal_results = []\n",
    "s2brdf_results = []\n",
    "for i in VZA:\n",
    "    sza = deg2rad(SZA)\n",
    "    saa = deg2rad(SAA)\n",
    "    vza = deg2rad(i)\n",
    "    vaa = deg2rad(VAA)\n",
    "    \n",
    "    raa = relative_azimuth(saa, vaa)\n",
    "    \n",
    "    angles.append(i)\n",
    "    \n",
    "    # HDF\n",
    "    hdf_sparse_results.append(kgeo_hdf(sza, vza, raa, li=\"sparse\"))\n",
    "    hdf_thick_results.append(kgeo_hdf(sza, vza, raa, li=\"dense\"))\n",
    "    \n",
    "    # GEOS\n",
    "    geos_results.append(geos(sza, vza, raa))\n",
    "    \n",
    "    # SEPAL\n",
    "    sepal_results.append(calc_kvol(saa, sza, vaa, vza))\n",
    "\n",
    "    # s2brdf\n",
    "    s2brdf_results.append(kernels.calc_kgeo(sza, vza, saa, vaa))\n",
    "      "
   ],
   "outputs": [],
   "metadata": {}
  },
  {
   "cell_type": "markdown",
   "source": [
    "## Javascript code k_geo.js\n",
    "\n",
    "See code below. Run in Js outside this notebook.\n"
   ],
   "metadata": {}
  },
  {
   "cell_type": "code",
   "execution_count": 8,
   "source": [
    "js_angles = [0, 10, 20, 30, 40, 50, 60, 70, 80]\n",
    "js_plane = [-1.1068191757647372, -0.870291742911339, -0.5774284042327373, -0.20754458417742372, 0.2784160828371678, 0.4675029273554563, 0.17046782583454645, -0.1803839029808496, 0.23472252421991957]\n",
    "js_cross = [-1.1068191757647372, -1.1275104677609415, -1.1847095679749289, -1.2524175198246204, -1.2965585052081703, -1.3698745216070236, -1.4999999999999998, -1.7705760443177971, -2.600918385588934]"
   ],
   "outputs": [],
   "metadata": {}
  },
  {
   "cell_type": "code",
   "execution_count": 9,
   "source": [
    "\"\"\"\n",
    "function deg2rad(x){\n",
    "  // Convert degrees to radians\n",
    "  return x * Math.PI / 180;\n",
    "}\n",
    "\n",
    "function rad2deg(x){\n",
    "  // Convert degrees to radians\n",
    "  return x / Math.PI * 180;\n",
    "}\n",
    "\n",
    "function sec(x){\n",
    "  // Calculate the secant of a value\n",
    "  return 1 / Math.cos(x);\n",
    "}\n",
    "\n",
    "function relative_azimuth(saa, vaa){\n",
    "  // Calculate relative azimuth angle\n",
    "  // Angles in RAD !\n",
    "  // return vaa - saa;\n",
    "  return Math.abs(vaa - Math.PI - saa);\n",
    "}\n",
    "\n",
    "function calc_Kgeo(sza, vza, saa, vaa){\n",
    "  // Calculate the LiSparse kernel from Lucht et al. 2000\n",
    "  // Angles in RAD !\n",
    "\n",
    "  // Relative azimuth\n",
    "  var phi = relative_azimuth(vaa, saa)\n",
    "  \n",
    "  // theta_prime = Math.atan(b / r * Math.tan(sza)) simplifies because b/r = 1\n",
    "  var theta_prime = sza\n",
    "  // vartheta_prime = Math.atan(b / r * Math.tan(vza)) simplifies because b/r = 1\n",
    "  var vartheta_prime =  vza\n",
    "\n",
    "  var cos_xi_prime = Math.cos(theta_prime) * Math.cos(vartheta_prime) + Math.sin(theta_prime) * Math.sin(vartheta_prime) * Math.cos(phi);\n",
    "\n",
    "  // Calculate t, broken up for clarity\n",
    "  // h / b = 2\n",
    "  var D = Math.sqrt(Math.pow(Math.tan(theta_prime), 2) + Math.pow(Math.tan(vartheta_prime), 2) - 2 * Math.tan(theta_prime) * Math.tan(vartheta_prime) * Math.cos(phi));\n",
    "  var tantansin = Math.tan(theta_prime) * Math.tan(vartheta_prime) * Math.sin(phi);\n",
    "  var costtop = Math.sqrt(Math.pow(D, 2) + Math.pow(tantansin, 2))\n",
    "  var cost = 2 * costtop / (sec(theta_prime) + sec(vartheta_prime))\n",
    "  var t = Math.acos(Math.min(1, cost));\n",
    "\n",
    "  // Calculate O\n",
    "  var O = (1 / Math.PI) * (t - Math.sin(t) * Math.cos(t)) * (sec(theta_prime) + sec(vartheta_prime));\n",
    "\n",
    "  // Kgeo\n",
    "  kgeo = O - sec(theta_prime) - sec(vartheta_prime) + 1 / 2 * (1 + cos_xi_prime) * sec(theta_prime) * sec(vartheta_prime);\n",
    "\n",
    "  return kgeo;\n",
    "}\n",
    "\n",
    "\n",
    "var SZA = 45\n",
    "var SAA = 180\n",
    "var VAA = 0\n",
    "\n",
    "// Initialise angles and results\n",
    "var angles = []\n",
    "var results = []\n",
    "\n",
    "for (i=0;i<90; i+=10){\n",
    "    var sza = deg2rad(SZA)\n",
    "    var saa = deg2rad(SAA)\n",
    "    var vza = deg2rad(i)\n",
    "    var vaa = deg2rad(VAA)\n",
    "    \n",
    "    var raa = relative_azimuth(saa, vaa)\n",
    "    \n",
    "    angles.push(i)\n",
    "    \n",
    "    // HDF\n",
    "    results.push(calc_Kgeo(sza, vza, saa, vaa))   \n",
    "}\n",
    "\n",
    "console.log(angles)\n",
    "console.log(results)\n",
    "\"\"\""
   ],
   "outputs": [
    {
     "output_type": "execute_result",
     "data": {
      "text/plain": [
       "'\\nfunction deg2rad(x){\\n  // Convert degrees to radians\\n  return x * Math.PI / 180;\\n}\\n\\nfunction rad2deg(x){\\n  // Convert degrees to radians\\n  return x / Math.PI * 180;\\n}\\n\\nfunction sec(x){\\n  // Calculate the secant of a value\\n  return 1 / Math.cos(x);\\n}\\n\\nfunction relative_azimuth(saa, vaa){\\n  // Calculate relative azimuth angle\\n  // Angles in RAD !\\n  // return vaa - saa;\\n  return Math.abs(vaa - Math.PI - saa);\\n}\\n\\nfunction calc_Kgeo(sza, vza, saa, vaa){\\n  // Calculate the LiSparse kernel from Lucht et al. 2000\\n  // Angles in RAD !\\n\\n  // Relative azimuth\\n  var phi = relative_azimuth(vaa, saa)\\n  \\n  // theta_prime = Math.atan(b / r * Math.tan(sza)) simplifies because b/r = 1\\n  var theta_prime = sza\\n  // vartheta_prime = Math.atan(b / r * Math.tan(vza)) simplifies because b/r = 1\\n  var vartheta_prime =  vza\\n\\n  var cos_xi_prime = Math.cos(theta_prime) * Math.cos(vartheta_prime) + Math.sin(theta_prime) * Math.sin(vartheta_prime) * Math.cos(phi);\\n\\n  // Calculate t, broken up for clarity\\n  // h / b = 2\\n  var D = Math.sqrt(Math.pow(Math.tan(theta_prime), 2) + Math.pow(Math.tan(vartheta_prime), 2) - 2 * Math.tan(theta_prime) * Math.tan(vartheta_prime) * Math.cos(phi));\\n  var tantansin = Math.tan(theta_prime) * Math.tan(vartheta_prime) * Math.sin(phi);\\n  var costtop = Math.sqrt(Math.pow(D, 2) + Math.pow(tantansin, 2))\\n  var cost = 2 * costtop / (sec(theta_prime) + sec(vartheta_prime))\\n  var t = Math.acos(Math.min(1, cost));\\n\\n  // Calculate O\\n  var O = (1 / Math.PI) * (t - Math.sin(t) * Math.cos(t)) * (sec(theta_prime) + sec(vartheta_prime));\\n\\n  // Kgeo\\n  kgeo = O - sec(theta_prime) - sec(vartheta_prime) + 1 / 2 * (1 + cos_xi_prime) * sec(theta_prime) * sec(vartheta_prime);\\n\\n  return kgeo;\\n}\\n\\n\\nvar SZA = 45\\nvar SAA = 180\\nvar VAA = 0\\n\\n// Initialise angles and results\\nvar angles = []\\nvar results = []\\n\\nfor (i=0;i<90; i+=10){\\n    var sza = deg2rad(SZA)\\n    var saa = deg2rad(SAA)\\n    var vza = deg2rad(i)\\n    var vaa = deg2rad(VAA)\\n    \\n    var raa = relative_azimuth(saa, vaa)\\n    \\n    angles.push(i)\\n    \\n    // HDF\\n    results.push(calc_Kgeo(sza, vza, saa, vaa))   \\n}\\n\\nconsole.log(angles)\\nconsole.log(results)\\n'"
      ]
     },
     "metadata": {},
     "execution_count": 9
    }
   ],
   "metadata": {}
  },
  {
   "cell_type": "markdown",
   "source": [
    "## From paper"
   ],
   "metadata": {}
  },
  {
   "cell_type": "code",
   "execution_count": 10,
   "source": [
    "paper_angles = [1.3435899819501458, 5.839162735209584,12.424488910579697,\n",
    "                17.793271204691393,21.972778048912744,25.251806920913793,\n",
    "                30.00890872047532,35.63922006088916,39.7778242580585,\n",
    "                41.84030924880119,43.311565068519684,47.28407972917489,\n",
    "                53.08481876563866,58.603577432274335,62.29411172310145,\n",
    "                65.6617629970485,68.73379968548343,72.67904591477065,75.6351917698916,\n",
    "                77.0859962660841]\n",
    "paper_kgeo_plane = [-0.5164423993120923,-0.46680145948081586,-0.38415952032350376,\n",
    "                    -0.2934455057441885,-0.2274435070921168,-0.16973049183883804,\n",
    "                    -0.07088242812986634,0.06903871032714282,0.1842168460030824,\n",
    "                    0.25000193667836346,0.2993330079713674,0.2505597000472539,\n",
    "                    0.18558026757148216,0.0959817797299487,0.02258941644007484,\n",
    "                    -0.026245865191692808,-0.08330815651459922,-0.09929737308946773,\n",
    "                    -0.017027276178082307,0.05689186362685561]"
   ],
   "outputs": [],
   "metadata": {}
  },
  {
   "cell_type": "code",
   "execution_count": 11,
   "source": [
    "paper_angles_cross = [2.404664630518454,9.455555114830844,18.06639958748167,\n",
    "                      26.371345841101117,34.03403276347626,42.35421046368651,\n",
    "                      50.04736027924321,59.05549165047003,65.29530760382374,70.96902145888703, 76.55007734718976,\n",
    "                      77.63531791678236]\n",
    "paper_kgeo_cross = [-0.5686406727222244,-0.5765737178215864,-0.6010233628178185,-0.6254888739042483,\n",
    "                    -0.6333901868232128,-0.6661536630835752,-0.6906509063504029,-0.7648724763000283,\n",
    "                    -0.8309388758875094,-0.9219309031771847,-1.1291103089921068,-1.2203403276347626]"
   ],
   "outputs": [],
   "metadata": {}
  },
  {
   "cell_type": "markdown",
   "source": [
    "## Plotting\n",
    "\n",
    "### Along plane"
   ],
   "metadata": {}
  },
  {
   "cell_type": "code",
   "execution_count": 12,
   "source": [
    "pt, ax = plt.subplots(1, figsize=(10,8))\n",
    "ax.plot(angles, hdf_sparse_results, \"r\", linestyle=\"-\", label=\"HDF\")\n",
    "ax.plot(angles, geos_results, \"g\", linestyle=\"-\", label=\"GEOS\")\n",
    "ax.plot(angles, s2brdf_results, \"p\", linestyle=\"-\", label=\"s2brdf\")\n",
    "ax.plot(paper_angles, [x * 2 for x in paper_kgeo_plane], \"ok-\", label=\"Paper\")\n",
    "ax.plot(angles, sepal_results, \"b-\", label=\"SEPAL\")\n",
    "ax.plot(js_angles, js_plane, \"or--\", label=\"Javascript\")\n",
    "ax.set_xlabel(\"SPP VZA\")\n",
    "ax.set_ylabel(\"KGEO\")\n",
    "plt.legend()\n",
    "plt.show()"
   ],
   "outputs": [
    {
     "output_type": "display_data",
     "data": {
      "image/png": "[encoded data removed]",
      "text/plain": [
       "<Figure size 720x576 with 1 Axes>"
      ]
     },
     "metadata": {
      "needs_background": "light"
     }
    }
   ],
   "metadata": {}
  },
  {
   "cell_type": "markdown",
   "source": [
    "### Cross-plane"
   ],
   "metadata": {}
  },
  {
   "cell_type": "code",
   "execution_count": 16,
   "source": [
    "# Set angles for testing\n",
    "\n",
    "SZA = 45\n",
    "SAA = 90\n",
    "VAA = 0\n",
    "VZA = range(0,90, 10)\n",
    "\n",
    "# Initialise angles and results\n",
    "angles = []\n",
    "hdf_sparse_results = []\n",
    "hdf_thick_results = []\n",
    "geos_results = []\n",
    "sepal_results = []\n",
    "s2brdf_results = []\n",
    "\n",
    "for i in VZA:\n",
    "    sza = deg2rad(SZA)\n",
    "    saa = deg2rad(SAA)\n",
    "    vza = deg2rad(i)\n",
    "    vaa = deg2rad(VAA)\n",
    "    \n",
    "    raa = relative_azimuth(saa, vaa)\n",
    "    \n",
    "    angles.append(i)\n",
    "    \n",
    "    # HDF\n",
    "    hdf_sparse_results.append(kgeo_hdf(sza, vza, raa, li=\"sparse\"))\n",
    "    hdf_thick_results.append(kgeo_hdf(sza, vza, raa, li=\"dense\"))\n",
    "    \n",
    "    # GEOS\n",
    "    geos_results.append(geos(sza, vza, raa))\n",
    "    \n",
    "    # SEPAL\n",
    "    sepal_results.append(calc_kvol(saa, sza, vaa, vza))\n",
    "    \n",
    "    # s2brdf\n",
    "    s2brdf_results.append(kernels.calc_kgeo(sza, vza, saa, vaa))"
   ],
   "outputs": [],
   "metadata": {}
  },
  {
   "cell_type": "code",
   "execution_count": 18,
   "source": [
    "pt, ax = plt.subplots(1, figsize=(10,8))\n",
    "ax.plot(angles, hdf_sparse_results, \"r\", linestyle=\"-\", label=\"HDF\")\n",
    "ax.plot(angles, geos_results, \"g\", linestyle=\"-\", label=\"GEOS\")\n",
    "ax.plot(angles, s2brdf_results, \"p\", linestyle=\"-\", label=\"s2brdf\")\n",
    "ax.plot(paper_angles_cross, [x *2 for x in paper_kgeo_cross], \"ok-\", label=\"Paper\")\n",
    "ax.plot(angles, sepal_results, \"b-\", label=\"SEPAL\")\n",
    "#ax.plot(js_angles, js_cross, \"ro--\", label=\"Javascript\")\n",
    "ax.set_xlabel(\"VZA\")\n",
    "ax.set_ylabel(\"KGEO\")\n",
    "plt.legend()\n",
    "plt.show()"
   ],
   "outputs": [
    {
     "output_type": "display_data",
     "data": {
      "image/png": "[encoded data removed]",
      "text/plain": [
       "<Figure size 720x576 with 1 Axes>"
      ]
     },
     "metadata": {
      "needs_background": "light"
     }
    }
   ],
   "metadata": {}
  }
 ],
 "metadata": {
  "kernelspec": {
   "name": "python3",
   "display_name": "Python 3.8.10 64-bit ('s2brdf': virtualenv)"
  },
  "language_info": {
   "codemirror_mode": {
    "name": "ipython",
    "version": 3
   },
   "file_extension": ".py",
   "mimetype": "text/x-python",
   "name": "python",
   "nbconvert_exporter": "python",
   "pygments_lexer": "ipython3",
   "version": "3.8.10"
  },
  "interpreter": {
   "hash": "76feee76892f6aa46778c9f26fa03cdc55f2cf869dc34a390909fcadbef80935"
  }
 },
 "nbformat": 4,
 "nbformat_minor": 4
}